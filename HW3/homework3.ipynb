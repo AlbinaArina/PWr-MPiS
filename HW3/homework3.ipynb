{
  "cells": [
    {
      "cell_type": "code",
      "execution_count": 20,
      "metadata": {},
      "outputs": [],
      "source": [
        "from random import random\n",
        "from time import time\n",
        "import matplotlib.pyplot as plt\n",
        "import numpy as np\n",
        "import scipy.stats as ss"
      ]
    },
    {
      "cell_type": "code",
      "execution_count": 29,
      "metadata": {},
      "outputs": [],
      "source": [
        "def task_2(_n):\n",
        "    allsn = []\n",
        "    for k in range(5000):\n",
        "        sn = 0\n",
        "        for n in range(_n):\n",
        "            x = 0\n",
        "            while x == 0:\n",
        "                x = random() * 2 - 1\n",
        "            if x < 0:\n",
        "                x = -1\n",
        "            else:\n",
        "                x = 1\n",
        "            sn += x\n",
        "        allsn.append(sn)\n",
        "    sndict = {}\n",
        "    for s in allsn:\n",
        "        if s in sndict.keys():\n",
        "            sndict[s] += 1\n",
        "        else:\n",
        "            sndict[s] = 1\n",
        "\n",
        "    plt.hist(allsn, density=True, cumulative=True, bins=len(sndict.keys()), color = \"skyblue\", edgecolor = \"black\")\n",
        "    x2 = np.linspace(min(allsn), max(allsn))\n",
        "    y2 = ss.norm(loc=0, scale=(max(allsn)-min(allsn))/8).cdf(x2)\n",
        "    plt.plot(x2, y2, color='red', linewidth=3)\n",
        "    plt.xlabel(_n);\n",
        "    plt.show()"
      ]
    },
    {
      "cell_type": "code",
      "execution_count": null,
      "metadata": {},
      "outputs": [],
      "source": [
        "task_2(100)"
      ]
    },
    {
      "cell_type": "code",
      "execution_count": 37,
      "metadata": {},
      "outputs": [],
      "source": [
        "def task_3(_n):\n",
        "    p = []\n",
        "    for k in range(5000):\n",
        "        print(k)\n",
        "        S = 0\n",
        "        L = 0\n",
        "        for N in range(1, _n+1):\n",
        "            x = 0\n",
        "            while x == 0:\n",
        "                x = random() * 2 - 1\n",
        "            if x < 0:\n",
        "                x = -1\n",
        "            else:\n",
        "                x = 1\n",
        "            S += x\n",
        "            if S >= 0:\n",
        "                L += 1\n",
        "        p.append(L / _n)\n",
        "    rv = ss.arcsine()\n",
        "    distribution = np.linspace(0, np.minimum(rv.dist.b, 3))\n",
        "\n",
        "    plt.hist(p, bins=20, density=True, color = \"skyblue\", edgecolor = \"black\")\n",
        "    plt.xlabel(_n);\n",
        "    plt.plot(distribution, rv.pdf(distribution), color = \"red\", linewidth=3)\n",
        "    plt.show()"
      ]
    },
    {
      "cell_type": "code",
      "execution_count": null,
      "metadata": {},
      "outputs": [],
      "source": [
        "task_3(100)"
      ]
    }
  ],
  "metadata": {
    "kernelspec": {
      "display_name": "Python 3",
      "language": "python",
      "name": "python3"
    },
    "language_info": {
      "codemirror_mode": {
        "name": "ipython",
        "version": 3
      },
      "file_extension": ".py",
      "mimetype": "text/x-python",
      "name": "python",
      "nbconvert_exporter": "python",
      "pygments_lexer": "ipython3",
      "version": "3.10.2"
    },
    "vscode": {
      "interpreter": {
        "hash": "50078af75287e07956a68198693f1ff1b6e07b789cba43ffbb063e6c11e04c74"
      }
    }
  },
  "nbformat": 4,
  "nbformat_minor": 4
}
